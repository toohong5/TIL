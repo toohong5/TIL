{
 "cells": [
  {
   "cell_type": "markdown",
   "metadata": {},
   "source": [
    "# 메소드 없는 세상 <1>\n",
    "\n",
    "> 알파벳으로 이뤄진 word를 입력받아 알파벳 대소문자를 서로 교환한 결과를 반환하는 `my_swapcase(word)`를 작성해주세요.\n",
    "\n",
    "**`.upper()`, `.lower()`, `swapcase()`는 사용하지 말아주세요.**\n",
    "\n",
    "**Tip! 문자와 숫자에는 특별한 관계가 있습니다. Google에서 아스키 코드를 참고하세요**\n",
    "\n",
    "```python\n",
    "# 예시\n",
    "print(my_swapcase('hello, World!')) # => HELLO, wORLD!\n",
    "print(my_swapcase('@_@')) # => @_@\n",
    "print(my_swapcase('2^3은 8이다!')) # => 2^3은 8이다!\n",
    "```"
   ]
  },
  {
   "cell_type": "code",
   "execution_count": null,
   "metadata": {},
   "outputs": [],
   "source": [
    "# 아래에 코드를 작성해주세요."
   ]
  },
  {
   "cell_type": "code",
   "execution_count": null,
   "metadata": {},
   "outputs": [],
   "source": [
    "# 선생님 풀이이이이이\n",
    "def my_swapcase(word):\n",
    "    result = ''\n",
    "    for char in word:\n",
    "        ascii_char = ord(char) # 아스키코드 숫자로 변경!\n",
    "        if 65 <= ascii_char <= 90 # A ~ Z\n",
    "            result += chr(ascii_char + 32) # 대문자에서 소문자로 변경!\n",
    "        elif 97 <= ascii_char <= 122: # a ~ z\n",
    "            result += chr(ascii_char - 32) # 소문자에서 대문자로 변경!\n",
    "        else:\n",
    "            result += char\n",
    "    return result"
   ]
  },
  {
   "cell_type": "code",
   "execution_count": null,
   "metadata": {},
   "outputs": [],
   "source": [
    "def my_swapcase(word):\n",
    "    "
   ]
  },
  {
   "cell_type": "code",
   "execution_count": null,
   "metadata": {},
   "outputs": [],
   "source": [
    "print(my_swapcase('hello, World!'))\n",
    "print(my_swapcase('@_@'))\n",
    "print(my_swapcase('2^3은 8이다!'))"
   ]
  },
  {
   "cell_type": "markdown",
   "metadata": {},
   "source": [
    "# 메소드 없는 세상 <2>\n",
    "\n",
    "> 우리는 문자열을 만들어 나갈 때, `.join(iterable)` 함수를 사용합니다. \n",
    ">\n",
    "> `.join(iterable)`이 생각나지 않을 때를 위해 직접 만들어보면서 감사함을 느껴봅시다.\n",
    ">\n",
    "> `my_join(target, word)`를 만들어 문자열을 반환해주세요.\n",
    ">\n",
    "> target은 바꿀 대상(iterable)이며, word는 합쳐지는 단어입니다. \n",
    "\n",
    "---\n",
    "\n",
    "\n",
    "예시)\n",
    "\n",
    "`''.join(a)` 와 `my_join(a, '')`은 같은 함수 호출입니다.\n",
    "\n",
    "```python\n",
    "print(my_join('배고파', '.')) # => 배.고.파\n",
    "print(my_join(['1', '2', '3'], '')) # => 123\n",
    "```"
   ]
  },
  {
   "cell_type": "code",
   "execution_count": null,
   "metadata": {},
   "outputs": [],
   "source": [
    "# 아래에 코드를 작성해주세요."
   ]
  },
  {
   "cell_type": "code",
   "execution_count": null,
   "metadata": {},
   "outputs": [],
   "source": [
    "# 선생님 풀이이이\n",
    "def my_join(target, word):\n",
    "    # 첫 문자열은 원본의 첫번째 값\n",
    "    result = target[0]\n",
    "    for i in target[1:]:\n",
    "        result += word + i\n",
    "    return result"
   ]
  },
  {
   "cell_type": "code",
   "execution_count": null,
   "metadata": {},
   "outputs": [],
   "source": [
    "def my_join(target, word):\n",
    "    result = ''\n",
    "    for i in range(0, len(target)):\n",
    "        if i == len(target)-1:\n",
    "            result += target[i]\n",
    "        else:\n",
    "            result += target[i] + word\n",
    "            \n",
    "    return result"
   ]
  },
  {
   "cell_type": "code",
   "execution_count": null,
   "metadata": {},
   "outputs": [],
   "source": [
    "print(my_join('배고파', '.'))\n",
    "print(my_join(['1', '2', '3'], ''))"
   ]
  },
  {
   "cell_type": "markdown",
   "metadata": {},
   "source": [
    "#  가능한 적게 변경하기\n",
    "\n",
    "> 대문자와 소문자가 혼합되어 있는 문자열어 주어지며\n",
    ">\n",
    "> 다음의 기준에 따라서 문자열을 소문자 혹은 대문자로 변환하세요.\n",
    "\n",
    "\n",
    "*  가능한 적게 변경하세요.\n",
    "*  만약에 문자열의 대문자 혹은 소문자가 같다면, 문자열을 모두 소문자로 변경하세요.\n",
    "\n",
    "--- \n",
    "\n",
    "```python\n",
    "# 예시 입력) \n",
    "print(solve('coDe'))\n",
    "print(solve('CODe'))\n",
    "print(solve('coDE'))\n",
    "\n",
    "# 예시 출력)\n",
    "'code'\n",
    "'CODE'\n",
    "'code'\n",
    "```"
   ]
  },
  {
   "cell_type": "code",
   "execution_count": null,
   "metadata": {},
   "outputs": [],
   "source": [
    "# 아래에 코드를 작성해주세요."
   ]
  },
  {
   "cell_type": "code",
   "execution_count": null,
   "metadata": {},
   "outputs": [],
   "source": [
    "# 선생님 풀이이이이\n",
    "def solve(words):\n",
    "    upper = 0\n",
    "    lower = 0\n",
    "    # 대소문자를 각자 카운트\n",
    "    for word in words:\n",
    "        if word.islower():\n",
    "            lower += 1\n",
    "        else:\n",
    "            upper += 1\n",
    "    # 두 개의 카운트 값을 비교해서 원본을 변경.\n",
    "    if lower == upper or lower > upper:\n",
    "        return words.lower()\n",
    "    else:\n",
    "        return words.upper()"
   ]
  },
  {
   "cell_type": "code",
   "execution_count": null,
   "metadata": {},
   "outputs": [],
   "source": [
    "# 2\n",
    "# 대문자만 카운트 / 원본 길이의 절반보다 많으면 대문자로 변경 / 아니면 소문자로 변경\n",
    "def solve(words):\n",
    "    count = 0\n",
    "    for word in words:\n",
    "        if word.isupper():\n",
    "            count += 1 # 대문자라면 count를 올림\n",
    "    if count > len(words)/2:\n",
    "        return words.upper()\n",
    "    else:\n",
    "        return words.lower()"
   ]
  },
  {
   "cell_type": "code",
   "execution_count": null,
   "metadata": {},
   "outputs": [],
   "source": [
    "# 3 2번을 컴프리헨션으로 변경\n",
    "def solve(words):\n",
    "    count = sum([1 for word in words if word.isupper()])\n",
    "    \n",
    "    if count > len(words)/2:\n",
    "        return words.upper()\n",
    "    else:\n",
    "        return words.lower()"
   ]
  },
  {
   "cell_type": "code",
   "execution_count": null,
   "metadata": {},
   "outputs": [],
   "source": [
    "def solve(l):\n",
    "    count_s = 0\n",
    "    count_l = 0\n",
    "    result = ''\n",
    "    for i in l:\n",
    "        if i in 'ABCDEFGHIJKLMNOPQRSTUWXYZ':\n",
    "            count_l += 1\n",
    "        else:\n",
    "            count_s += 1\n",
    "    if count_l > count_s:\n",
    "        result = l.upper()\n",
    "    else:\n",
    "        result = l.lower()\n",
    "    return result\n",
    "    "
   ]
  },
  {
   "cell_type": "code",
   "execution_count": null,
   "metadata": {},
   "outputs": [],
   "source": [
    "print(solve('coDe'))\n",
    "print(solve('CODe'))\n",
    "print(solve('coDE'))"
   ]
  },
  {
   "cell_type": "markdown",
   "metadata": {},
   "source": [
    "# 숨바꼭질\n",
    "\n",
    "> 숫자가 주어지면, 사용되지 않은 숫자를 프린트하세요.\n",
    "\n",
    "---\n",
    "\n",
    "```python\n",
    "# 예시)\n",
    "unused_digits(12, 34, 56, 78) # => '09'\n",
    "\n",
    "unused_digits(2015, 8, 26)  # => '3479'\n",
    "```\n",
    "\n",
    "\n",
    "**결과값은 정렬되어야 합니다.**\n",
    "\n"
   ]
  },
  {
   "cell_type": "code",
   "execution_count": null,
   "metadata": {},
   "outputs": [],
   "source": [
    "# 아래에 코드를 작성해주세요."
   ]
  },
  {
   "cell_type": "code",
   "execution_count": null,
   "metadata": {},
   "outputs": [],
   "source": [
    "# 선생님 풀이이이이이이\n",
    "# 비교할 수 있는 set 구문을 하나 만들고 set('0123456789')\n",
    "# 입력된 값도 문자열 타입 + set 로 변경해서\n",
    "# 비교 set에서 입력된 set 를 뺄거임!=>안쓰인 번호만 남을것임\n",
    "# 남은 번호를 정렬하고 문자열로 합치면 됨!\n",
    "\n",
    "def unused_digits(*args):\n",
    "    word = set('0123456789') # map으로 표현하기 : set(map(str, range(10)))\n",
    "    for arg in args:\n",
    "        word -= set(str(arg))\n",
    "    return ''.join(sorted(word)) # sorted로 set을 정렬시켜야함...help(sorted)로 볼 수 있음"
   ]
  },
  {
   "cell_type": "markdown",
   "metadata": {},
   "source": [
    "iterable - 시퀀스(문자열, 리스트, 튜플..)\n",
    "collection - set dict .."
   ]
  },
  {
   "cell_type": "code",
   "execution_count": null,
   "metadata": {},
   "outputs": [],
   "source": [
    "def unused_digits(*args):\n",
    "    result = ''\n",
    "    used_num = ''\n",
    "    num='0123456789'\n",
    "    \n",
    "    for i in args:\n",
    "        used_num += str(i)\n",
    "        \n",
    "    \n",
    "    for j in num:\n",
    "        if j not in used_num:\n",
    "            result += j\n",
    "                \n",
    "#         for j in range(0, len(str(i))):\n",
    "#             result += str(i)[j]\n",
    "   \n",
    "    \n",
    "#     for i in result:\n",
    "#         if i in '0123456789':\n",
    "#             pass\n",
    "#         else:\n",
    "#             unused_num.append(i)\n",
    "#     for i in range(0, 10):\n",
    "#         if i != result[i]:\n",
    "#             unused_num.append(i)\n",
    "#     for j in range(0,len(result)):\n",
    "#         for k in range(0,len(num)):\n",
    "#             if result[j] in str(num[k]):\n",
    "#                 used_num.append(result[j])\n",
    "#         else:\n",
    "#             unused_num.append(result[j])\n",
    "            \n",
    "    return result"
   ]
  },
  {
   "cell_type": "code",
   "execution_count": null,
   "metadata": {},
   "outputs": [],
   "source": [
    "print(unused_digits(12, 34, 56, 78))\n",
    "print(unused_digits(2015, 8, 26))"
   ]
  },
  {
   "cell_type": "markdown",
   "metadata": {},
   "source": [
    "# 짝홀짝홀"
   ]
  },
  {
   "cell_type": "markdown",
   "metadata": {},
   "source": [
    "> n개의 양의 정수 리스트가 주어지면, 홀수와 짝수를 분리하고 각각의 조건에 맞게 홀수와 짝수를 \n",
    "정렬하세요.\n",
    "\n",
    "> 조건\n",
    "1. 짝수와 홀수가 번갈아 가면서 나오게 됩니다.\n",
    "2. 짝수가 먼저 시작됩니다.\n",
    "3. 짝수는 오름차순으로 홀수는 내림차순으로 되어야합니다.\n",
    "\n",
    "> 실습 입력 인자 조건\n",
    "1. 인자 리스트의 크기는 적어도 4이상입니다.\n",
    "2. 인자 리스트의 요소값으로 0은 존재하지 않습니다.\n",
    "3. 인자 리스트의 요소값이 반복될 수 있으나 출력할 때는 중복 값이 없습니다.\n",
    "\n",
    "```python\n",
    "# 예시) \n",
    "\n",
    "print(even_and_odd([7, 3 , 14 , 17]))\n",
    "# => [14, 17, 7, 3]\n",
    "\n",
    "print(even_and_odd([1, 3, 5, 7, 9, 11]))\n",
    "# => [11, 9, 7, 5, 3, 1]\n",
    "\n",
    "print(even_and_odd([1, 2, 2, 4, 4, 6, 6, 2004, 9, 11]))\n",
    "# => [2, 11, 4, 9, 6, 1, 2004]\n",
    "```"
   ]
  },
  {
   "cell_type": "code",
   "execution_count": null,
   "metadata": {},
   "outputs": [],
   "source": [
    "# 여기에 코드를 작성하세요"
   ]
  },
  {
   "cell_type": "code",
   "execution_count": null,
   "metadata": {},
   "outputs": [],
   "source": [
    "# 선생님 풀이이이이이\n",
    "# pop()이용..return 값이 있음\n",
    "# set으로 중복 제거후 리스트로 변경 후 정렬\n",
    "# 짝수 리스트랑 홀수 리스트를 따로 분류\n",
    "# 둘다 오름차순 상태인데 pop을 사용할거기 때문에 문제와 반대로 정렬해야 한다.\n",
    "\n",
    "def even_and_odd(numbers):\n",
    "    numbers = sorted(list(set(numbers)))\n",
    "    even = []\n",
    "    odd = []\n",
    "    result = []\n",
    "    for number in numbers:\n",
    "        if number % 2:\n",
    "            odd.append(number)\n",
    "        else:\n",
    "            even.append(number)\n",
    "    even = even[::-1] # pop을 이용해 뒤에서 부터 꺼내기 위해 짝수를 내림차순으로 변경\n",
    "    \n",
    "    # 짝수리스트와 홀수리스트가 모두 빌때까지 반복 / 새로운 결과 리스트에 삽입(짝수부터)\n",
    "    while True:\n",
    "        if len(even)==0 and len(odd)==0: # 길이가 0이면 리스트가 빈것임!!!\n",
    "            break\n",
    "        if len(even):\n",
    "            result.append(even.pop())\n",
    "        if len(odd):\n",
    "            result.append(odd.pop())\n",
    "    return result"
   ]
  },
  {
   "cell_type": "code",
   "execution_count": null,
   "metadata": {},
   "outputs": [],
   "source": [
    "\n",
    "def even_and_odd(k):\n",
    "    even = []\n",
    "    odd = []\n",
    "    result = []\n",
    "    for num in set(k):\n",
    "        if num % 2:\n",
    "            odd.append(num)\n",
    "        else:\n",
    "            even.append(num)\n",
    "    even.sort()\n",
    "    odd.sort(reverse=True)\n",
    "    \n",
    "    \n",
    "    \n",
    "    while  i < len(k):\n",
    "        if even[i] == None:\n",
    "            result.append(odd[i])\n",
    "        else:\n",
    "            result.append(even[i]+odd[i])\n",
    "#     for i in range(0, len(k)):\n",
    "#         if even[i] == None:\n",
    "#             for j in range(0, len(odd)):\n",
    "#                 even.append(odd[j])\n",
    "    \n",
    "    return result"
   ]
  },
  {
   "cell_type": "code",
   "execution_count": null,
   "metadata": {
    "scrolled": true
   },
   "outputs": [],
   "source": [
    "print(even_and_odd([7, 3, 14, 17]))\n",
    "print(even_and_odd([1, 3, 5, 7, 9, 11]))\n",
    "print(even_and_odd([1, 2, 2, 4, 4, 6, 6, 2004, 9, 11]))"
   ]
  },
  {
   "cell_type": "markdown",
   "metadata": {},
   "source": [
    "# 문자열 계산하기\n",
    "\n",
    "> 아래와 같이 문자열이 주어졌을 때, 바보같은 사용자를 위해 계산을 해주려고 한다.\n",
    ">\n",
    "> 이 계산기는 더하기와 빼기밖에 못한다.\n",
    ">\n",
    "> `calc(equation)`을 만들어봅시다.\n",
    "\n",
    "\n",
    "```python\n",
    "# 예시\n",
    "calc('123+2-124')\n",
    "#=> 1\n",
    "\n",
    "calc('-12+12-7979+9191')\n",
    "#=> 1212\n",
    "\n",
    "calc('+1-1+1-1+1-1+1-1+1-1+1-1+1-1+1-1+1-1+1-1+1-1+1-1+1-1+1-1+1-1+1-1')\n",
    "#=> 0\n",
    "```"
   ]
  },
  {
   "cell_type": "code",
   "execution_count": null,
   "metadata": {},
   "outputs": [],
   "source": [
    "# 여기에 코드를 작성하세요."
   ]
  },
  {
   "cell_type": "code",
   "execution_count": null,
   "metadata": {},
   "outputs": [],
   "source": [
    "# 선생님 풀이\n",
    "# 1 replace() 아용\n",
    "# '+' => ' +' 부호를 포함한 채로 공백기준으로 나뉨...\n",
    "def calc(equation):\n",
    "    equation = equation.replace('+', ' +')\n",
    "    equation = equation.replace('-', ' -')\n",
    "    result = equation.split()\n",
    "    \n",
    "    return sum(map(int, result))"
   ]
  },
  {
   "cell_type": "code",
   "execution_count": null,
   "metadata": {},
   "outputs": [],
   "source": [
    "def calc(equation):\n",
    "    return eval(equation)"
   ]
  },
  {
   "cell_type": "code",
   "execution_count": null,
   "metadata": {},
   "outputs": [],
   "source": [
    "def calc(equation):\n",
    "    result = ''\n",
    "    for i in equation:\n",
    "        if i == '+' or i == '-':\n",
    "            "
   ]
  },
  {
   "cell_type": "code",
   "execution_count": null,
   "metadata": {},
   "outputs": [],
   "source": [
    "print(calc('123+2-124'))\n",
    "print(calc('-12+12-7979+9191'))\n",
    "print(calc('+1-1+1-1+1-1+1-1+1-1+1-1+1-1+1-1+1-1+1-1+1-1+1-1+1-1+1-1+1-1+1-1'))"
   ]
  }
 ],
 "metadata": {
  "kernelspec": {
   "display_name": "Python 3",
   "language": "python",
   "name": "python3"
  },
  "language_info": {
   "codemirror_mode": {
    "name": "ipython",
    "version": 3
   },
   "file_extension": ".py",
   "mimetype": "text/x-python",
   "name": "python",
   "nbconvert_exporter": "python",
   "pygments_lexer": "ipython3",
   "version": "3.7.3"
  },
  "latex_envs": {
   "LaTeX_envs_menu_present": true,
   "autoclose": false,
   "autocomplete": true,
   "bibliofile": "biblio.bib",
   "cite_by": "apalike",
   "current_citInitial": 1,
   "eqLabelWithNumbers": true,
   "eqNumInitial": 1,
   "hotkeys": {
    "equation": "Ctrl-E",
    "itemize": "Ctrl-I"
   },
   "labels_anchors": false,
   "latex_user_defs": false,
   "report_style_numbering": false,
   "user_envs_cfg": false
  },
  "toc": {
   "base_numbering": 1,
   "nav_menu": {},
   "number_sections": true,
   "sideBar": true,
   "skip_h1_title": false,
   "title_cell": "Table of Contents",
   "title_sidebar": "Contents",
   "toc_cell": false,
   "toc_position": {},
   "toc_section_display": true,
   "toc_window_display": false
  }
 },
 "nbformat": 4,
 "nbformat_minor": 2
}
