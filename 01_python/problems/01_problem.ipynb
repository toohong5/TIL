{
 "cells": [
  {
   "cell_type": "markdown",
   "metadata": {},
   "source": [
    "# 상승장? 하락장?\n",
    "\n",
    "> 최고가와 최저가의 차이를 변동폭으로 정의할 때 (시가 + 변동폭)이 최고가 보다 높을 경우 \"상승장\", 그렇지 않은 경우 \"하락장\" 문자열을 출력하라.\n",
    "\n",
    "|Key Name|Description|\n",
    "|------|---|\n",
    "|opeing_price|최근 24시간 내 시작 거래금액|\n",
    "|closing_price|최근 24시간 내 마지막 거래금액|\n",
    "|min_price|최근 24시간 내 최저 거래금액|\n",
    "|max_price|최근 24시간 내 최고 거래금액|"
   ]
  },
  {
   "cell_type": "code",
   "execution_count": 1,
   "metadata": {},
   "outputs": [
    {
     "name": "stdout",
     "output_type": "stream",
     "text": [
      "{'24H_fluctate': '961000',\n",
      " '24H_fluctate_rate': '7.80',\n",
      " 'average_price': '12512058.7968',\n",
      " 'buy_price': '13281000',\n",
      " 'closing_price': '13280000',\n",
      " 'date': '1563235478661',\n",
      " 'max_price': '13451000',\n",
      " 'min_price': '11879000',\n",
      " 'opening_price': '12319000',\n",
      " 'sell_price': '13287000',\n",
      " 'units_traded': '14761.10227059',\n",
      " 'volume_1day': '14761.10227059',\n",
      " 'volume_7day': '90812.44165705'}\n"
     ]
    }
   ],
   "source": [
    "import requests\n",
    "from pprint import pprint\n",
    "\n",
    "url = \"https://api.bithumb.com/public/ticker/btc\"\n",
    "data = requests.get(url).json()['data']\n",
    "pprint(data) #보기좋게 정렬해줌"
   ]
  },
  {
   "cell_type": "code",
   "execution_count": 2,
   "metadata": {},
   "outputs": [
    {
     "name": "stdout",
     "output_type": "stream",
     "text": [
      "상승장\n"
     ]
    }
   ],
   "source": [
    "# 아래에 코드를 작성하세요.\n",
    "# 변동폭 = 최고가 - 최저가\n",
    "# 시가 = 시작가\n",
    "\n",
    "opening_price = int(data['opening_price']) # data.get('opening_price')\n",
    "max_price = int(data['max_price'])\n",
    "min_price = int(data['min_price'])\n",
    "\n",
    "if (opening_price + max_price - min_price) > max_price:\n",
    "    print(\"상승장\")\n",
    "else:\n",
    "    print(\"하락장\")"
   ]
  },
  {
   "cell_type": "markdown",
   "metadata": {},
   "source": [
    "# 모음 제거하기\n",
    "\n",
    "> 다음 문장의 모음을 제거하여 출력하세요.\n",
    "\n",
    "```\n",
    "예시 입력)\n",
    "\"Life is too short, you need python\"\n",
    "예시 출력)\n",
    "Lf s t shrt, y nd pythn\n",
    "```"
   ]
  },
  {
   "cell_type": "code",
   "execution_count": 3,
   "metadata": {},
   "outputs": [],
   "source": [
    "my_str = \"Life is too short, you need python\""
   ]
  },
  {
   "cell_type": "code",
   "execution_count": 4,
   "metadata": {},
   "outputs": [
    {
     "name": "stdout",
     "output_type": "stream",
     "text": [
      "Lf s t shrt, y nd pythn"
     ]
    }
   ],
   "source": [
    "# 아래에 코드를 작성하세요.\n",
    "for i in my_str:\n",
    "    if i != 'a' and i != 'e' and i != 'o' and i != 'i' and i != 'u':\n",
    "        print(i, end='')\n",
    "        \n",
    "# for i in my_str:\n",
    "#     if i == 'o' or i=='a' or i=='e' or i=='i' or i=='u':\n",
    "#         my_str=my_str.replace(i, '')\n",
    "# print(my_str)"
   ]
  },
  {
   "cell_type": "code",
   "execution_count": 6,
   "metadata": {},
   "outputs": [
    {
     "name": "stdout",
     "output_type": "stream",
     "text": [
      "Lf s t shrt, y nd pythn\n"
     ]
    }
   ],
   "source": [
    "# 선생님 풀이\n",
    "# 그럼 하나하나씩 돌면서 모음이면 기록하지않고, 모음이 아니면 기록해야겠다! -> 기록할 변수가 필요! -> result = ''\n",
    "result = ''\n",
    "\n",
    "# 문자열 하나하나 돌면서 \n",
    "for char in my_str:\n",
    "# 모음이 아니면 기록\n",
    "    if char != 'a' and char != 'e' and char != 'i' and char != 'o' and char != 'u':\n",
    "        result = result + char\n",
    "        # result += char\n",
    "print(result)\n",
    "\n",
    "# 무식해 보이지만 맞는 코드! 이렇게 단계별로 끊어서 생각하면 문제를 풀 수 있다.\n",
    "# 아래 두 가지 추가풀이는 한번에 접근해서 짤 수는 없다. 지금은 우선 위처럼 짜는게 우선!"
   ]
  },
  {
   "cell_type": "code",
   "execution_count": 7,
   "metadata": {},
   "outputs": [
    {
     "name": "stdout",
     "output_type": "stream",
     "text": [
      "Lf s t shrt, y nd pythn\n"
     ]
    }
   ],
   "source": [
    "# 2 각각의 비교가 아니라, 어떤 통 안에 들어있냐 없냐를 판단.\n",
    "\n",
    "# 비교할 수 있는 모음 리스트 만들기!\n",
    "vowels = ['a', 'e', 'i', 'o', 'u']\n",
    "# vowels = 'aeiou' 로도 가능\n",
    "\n",
    "result = ''\n",
    "\n",
    "# vowels안에 있으면 패스 없으면 넣기!\n",
    "for char in my_str:\n",
    "    if char not in vowels:\n",
    "        result += char\n",
    "print(result)"
   ]
  },
  {
   "cell_type": "code",
   "execution_count": null,
   "metadata": {},
   "outputs": [],
   "source": [
    "# 3 새로운 변수를 만드는게 아니라 원본을 수정!\n",
    "vowels = 'aeiou'\n",
    "\n",
    "for vowel in vowels:\n",
    "    my_str = my_str.replace(vowel, '')\n",
    "print(my_str)"
   ]
  }
 ],
 "metadata": {
  "kernelspec": {
   "display_name": "Python 3",
   "language": "python",
   "name": "python3"
  },
  "language_info": {
   "codemirror_mode": {
    "name": "ipython",
    "version": 3
   },
   "file_extension": ".py",
   "mimetype": "text/x-python",
   "name": "python",
   "nbconvert_exporter": "python",
   "pygments_lexer": "ipython3",
   "version": "3.7.3"
  },
  "toc": {
   "base_numbering": 1,
   "nav_menu": {},
   "number_sections": true,
   "sideBar": true,
   "skip_h1_title": false,
   "title_cell": "Table of Contents",
   "title_sidebar": "Contents",
   "toc_cell": false,
   "toc_position": {},
   "toc_section_display": true,
   "toc_window_display": false
  }
 },
 "nbformat": 4,
 "nbformat_minor": 2
}
